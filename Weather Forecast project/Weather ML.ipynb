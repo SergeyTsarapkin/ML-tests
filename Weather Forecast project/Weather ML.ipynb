{
 "cells": [
  {
   "cell_type": "code",
   "execution_count": 1,
   "id": "ab7f7435",
   "metadata": {},
   "outputs": [],
   "source": [
    "import pandas as pd\n",
    "import numpy as np"
   ]
  },
  {
   "cell_type": "code",
   "execution_count": 2,
   "id": "c5de54ca",
   "metadata": {},
   "outputs": [],
   "source": [
    "rows, columns = 2000, 2000\n",
    "a = [list(range(i, i + columns)) for i in range(rows)]\n",
    "b = [[0 for j in range(columns)] for i in range(rows)]"
   ]
  },
  {
   "cell_type": "code",
   "execution_count": 7,
   "id": "66eb81e7",
   "metadata": {},
   "outputs": [
    {
     "name": "stdout",
     "output_type": "stream",
     "text": [
      "481 ms ± 3.41 ms per loop (mean ± std. dev. of 7 runs, 1 loop each)\n"
     ]
    }
   ],
   "source": [
    "%%timeit\n",
    "for i in range(rows):\n",
    "    for j in range(columns):\n",
    "        b[i][j] = 2*a[i][j]"
   ]
  },
  {
   "cell_type": "code",
   "execution_count": 4,
   "id": "ad9a5f78",
   "metadata": {},
   "outputs": [],
   "source": [
    "c = np.asarray(a)"
   ]
  },
  {
   "cell_type": "code",
   "execution_count": 8,
   "id": "4ec74ada",
   "metadata": {},
   "outputs": [
    {
     "name": "stdout",
     "output_type": "stream",
     "text": [
      "6.11 ms ± 301 µs per loop (mean ± std. dev. of 7 runs, 100 loops each)\n"
     ]
    }
   ],
   "source": [
    "%%timeit\n",
    "c*2"
   ]
  },
  {
   "cell_type": "code",
   "execution_count": 2,
   "id": "ab26a648",
   "metadata": {},
   "outputs": [],
   "source": [
    "df = pd.read_csv('Rome_weather_data.csv', index_col='DATE', low_memory=False)"
   ]
  },
  {
   "cell_type": "code",
   "execution_count": 3,
   "id": "525138f6",
   "metadata": {},
   "outputs": [
    {
     "data": {
      "text/plain": [
       "STATION              3\n",
       "NAME                 3\n",
       "LATITUDE             3\n",
       "LONGITUDE            3\n",
       "ELEVATION            3\n",
       "PRCP               450\n",
       "PRCP_ATTRIBUTES      8\n",
       "SNWD                13\n",
       "SNWD_ATTRIBUTES      1\n",
       "TAVG               343\n",
       "TAVG_ATTRIBUTES      1\n",
       "TMAX               403\n",
       "TMAX_ATTRIBUTES      7\n",
       "TMIN               321\n",
       "TMIN_ATTRIBUTES      9\n",
       "dtype: int64"
      ]
     },
     "execution_count": 3,
     "metadata": {},
     "output_type": "execute_result"
    }
   ],
   "source": [
    "df.nunique()"
   ]
  },
  {
   "cell_type": "code",
   "execution_count": 4,
   "id": "ccdcee4e",
   "metadata": {},
   "outputs": [],
   "source": [
    "df.sort_index(inplace=True)"
   ]
  },
  {
   "cell_type": "code",
   "execution_count": 5,
   "id": "af05c0f9",
   "metadata": {},
   "outputs": [
    {
     "data": {
      "text/html": [
       "<div>\n",
       "<style scoped>\n",
       "    .dataframe tbody tr th:only-of-type {\n",
       "        vertical-align: middle;\n",
       "    }\n",
       "\n",
       "    .dataframe tbody tr th {\n",
       "        vertical-align: top;\n",
       "    }\n",
       "\n",
       "    .dataframe thead th {\n",
       "        text-align: right;\n",
       "    }\n",
       "</style>\n",
       "<table border=\"1\" class=\"dataframe\">\n",
       "  <thead>\n",
       "    <tr style=\"text-align: right;\">\n",
       "      <th></th>\n",
       "      <th>STATION</th>\n",
       "      <th>NAME</th>\n",
       "      <th>LATITUDE</th>\n",
       "      <th>LONGITUDE</th>\n",
       "      <th>ELEVATION</th>\n",
       "      <th>PRCP</th>\n",
       "      <th>PRCP_ATTRIBUTES</th>\n",
       "      <th>SNWD</th>\n",
       "      <th>SNWD_ATTRIBUTES</th>\n",
       "      <th>TAVG</th>\n",
       "      <th>TAVG_ATTRIBUTES</th>\n",
       "      <th>TMAX</th>\n",
       "      <th>TMAX_ATTRIBUTES</th>\n",
       "      <th>TMIN</th>\n",
       "      <th>TMIN_ATTRIBUTES</th>\n",
       "    </tr>\n",
       "    <tr>\n",
       "      <th>DATE</th>\n",
       "      <th></th>\n",
       "      <th></th>\n",
       "      <th></th>\n",
       "      <th></th>\n",
       "      <th></th>\n",
       "      <th></th>\n",
       "      <th></th>\n",
       "      <th></th>\n",
       "      <th></th>\n",
       "      <th></th>\n",
       "      <th></th>\n",
       "      <th></th>\n",
       "      <th></th>\n",
       "      <th></th>\n",
       "      <th></th>\n",
       "    </tr>\n",
       "  </thead>\n",
       "  <tbody>\n",
       "    <tr>\n",
       "      <th>2022-08-18</th>\n",
       "      <td>IT000162240</td>\n",
       "      <td>VIGNA DI VALLE, IT</td>\n",
       "      <td>42.0828</td>\n",
       "      <td>12.2167</td>\n",
       "      <td>266.0</td>\n",
       "      <td>0.0</td>\n",
       "      <td>B,,S</td>\n",
       "      <td>NaN</td>\n",
       "      <td>NaN</td>\n",
       "      <td>27.9</td>\n",
       "      <td>H,,S</td>\n",
       "      <td>NaN</td>\n",
       "      <td>NaN</td>\n",
       "      <td>NaN</td>\n",
       "      <td>NaN</td>\n",
       "    </tr>\n",
       "    <tr>\n",
       "      <th>2022-08-18</th>\n",
       "      <td>IT000016239</td>\n",
       "      <td>ROMA CIAMPINO, IT</td>\n",
       "      <td>41.7831</td>\n",
       "      <td>12.5831</td>\n",
       "      <td>105.0</td>\n",
       "      <td>0.0</td>\n",
       "      <td>B,,S</td>\n",
       "      <td>NaN</td>\n",
       "      <td>NaN</td>\n",
       "      <td>29.8</td>\n",
       "      <td>H,,S</td>\n",
       "      <td>35.6</td>\n",
       "      <td>,,S</td>\n",
       "      <td>24.3</td>\n",
       "      <td>,,S</td>\n",
       "    </tr>\n",
       "    <tr>\n",
       "      <th>2022-08-19</th>\n",
       "      <td>IT000162240</td>\n",
       "      <td>VIGNA DI VALLE, IT</td>\n",
       "      <td>42.0828</td>\n",
       "      <td>12.2167</td>\n",
       "      <td>266.0</td>\n",
       "      <td>4.1</td>\n",
       "      <td>B,,S</td>\n",
       "      <td>NaN</td>\n",
       "      <td>NaN</td>\n",
       "      <td>23.9</td>\n",
       "      <td>H,,S</td>\n",
       "      <td>NaN</td>\n",
       "      <td>NaN</td>\n",
       "      <td>21.0</td>\n",
       "      <td>,,S</td>\n",
       "    </tr>\n",
       "    <tr>\n",
       "      <th>2022-08-19</th>\n",
       "      <td>ITM00016245</td>\n",
       "      <td>PRATICA DI MARE, IT</td>\n",
       "      <td>41.6590</td>\n",
       "      <td>12.4450</td>\n",
       "      <td>12.5</td>\n",
       "      <td>NaN</td>\n",
       "      <td>NaN</td>\n",
       "      <td>NaN</td>\n",
       "      <td>NaN</td>\n",
       "      <td>26.3</td>\n",
       "      <td>H,,S</td>\n",
       "      <td>28.4</td>\n",
       "      <td>,,S</td>\n",
       "      <td>NaN</td>\n",
       "      <td>NaN</td>\n",
       "    </tr>\n",
       "    <tr>\n",
       "      <th>2022-08-19</th>\n",
       "      <td>IT000016239</td>\n",
       "      <td>ROMA CIAMPINO, IT</td>\n",
       "      <td>41.7831</td>\n",
       "      <td>12.5831</td>\n",
       "      <td>105.0</td>\n",
       "      <td>3.0</td>\n",
       "      <td>B,,S</td>\n",
       "      <td>NaN</td>\n",
       "      <td>NaN</td>\n",
       "      <td>24.9</td>\n",
       "      <td>H,,S</td>\n",
       "      <td>28.4</td>\n",
       "      <td>,,S</td>\n",
       "      <td>NaN</td>\n",
       "      <td>NaN</td>\n",
       "    </tr>\n",
       "  </tbody>\n",
       "</table>\n",
       "</div>"
      ],
      "text/plain": [
       "                STATION                 NAME  LATITUDE  LONGITUDE  ELEVATION  \\\n",
       "DATE                                                                           \n",
       "2022-08-18  IT000162240   VIGNA DI VALLE, IT   42.0828    12.2167      266.0   \n",
       "2022-08-18  IT000016239    ROMA CIAMPINO, IT   41.7831    12.5831      105.0   \n",
       "2022-08-19  IT000162240   VIGNA DI VALLE, IT   42.0828    12.2167      266.0   \n",
       "2022-08-19  ITM00016245  PRATICA DI MARE, IT   41.6590    12.4450       12.5   \n",
       "2022-08-19  IT000016239    ROMA CIAMPINO, IT   41.7831    12.5831      105.0   \n",
       "\n",
       "            PRCP PRCP_ATTRIBUTES  SNWD SNWD_ATTRIBUTES  TAVG TAVG_ATTRIBUTES  \\\n",
       "DATE                                                                           \n",
       "2022-08-18   0.0            B,,S   NaN             NaN  27.9            H,,S   \n",
       "2022-08-18   0.0            B,,S   NaN             NaN  29.8            H,,S   \n",
       "2022-08-19   4.1            B,,S   NaN             NaN  23.9            H,,S   \n",
       "2022-08-19   NaN             NaN   NaN             NaN  26.3            H,,S   \n",
       "2022-08-19   3.0            B,,S   NaN             NaN  24.9            H,,S   \n",
       "\n",
       "            TMAX TMAX_ATTRIBUTES  TMIN TMIN_ATTRIBUTES  \n",
       "DATE                                                    \n",
       "2022-08-18   NaN             NaN   NaN             NaN  \n",
       "2022-08-18  35.6             ,,S  24.3             ,,S  \n",
       "2022-08-19   NaN             NaN  21.0             ,,S  \n",
       "2022-08-19  28.4             ,,S   NaN             NaN  \n",
       "2022-08-19  28.4             ,,S   NaN             NaN  "
      ]
     },
     "execution_count": 5,
     "metadata": {},
     "output_type": "execute_result"
    }
   ],
   "source": [
    "df.tail()"
   ]
  },
  {
   "cell_type": "code",
   "execution_count": 6,
   "id": "86f696c3",
   "metadata": {
    "scrolled": true
   },
   "outputs": [],
   "source": [
    "df = df.groupby(df.index).mean()"
   ]
  },
  {
   "cell_type": "code",
   "execution_count": 7,
   "id": "4d40814b",
   "metadata": {},
   "outputs": [
    {
     "data": {
      "text/html": [
       "<div>\n",
       "<style scoped>\n",
       "    .dataframe tbody tr th:only-of-type {\n",
       "        vertical-align: middle;\n",
       "    }\n",
       "\n",
       "    .dataframe tbody tr th {\n",
       "        vertical-align: top;\n",
       "    }\n",
       "\n",
       "    .dataframe thead th {\n",
       "        text-align: right;\n",
       "    }\n",
       "</style>\n",
       "<table border=\"1\" class=\"dataframe\">\n",
       "  <thead>\n",
       "    <tr style=\"text-align: right;\">\n",
       "      <th></th>\n",
       "      <th>LATITUDE</th>\n",
       "      <th>LONGITUDE</th>\n",
       "      <th>ELEVATION</th>\n",
       "      <th>PRCP</th>\n",
       "      <th>SNWD</th>\n",
       "      <th>TAVG</th>\n",
       "      <th>TMAX</th>\n",
       "      <th>TMIN</th>\n",
       "    </tr>\n",
       "    <tr>\n",
       "      <th>DATE</th>\n",
       "      <th></th>\n",
       "      <th></th>\n",
       "      <th></th>\n",
       "      <th></th>\n",
       "      <th></th>\n",
       "      <th></th>\n",
       "      <th></th>\n",
       "      <th></th>\n",
       "    </tr>\n",
       "  </thead>\n",
       "  <tbody>\n",
       "    <tr>\n",
       "      <th>2022-08-15</th>\n",
       "      <td>41.841633</td>\n",
       "      <td>12.414933</td>\n",
       "      <td>127.833333</td>\n",
       "      <td>0.00</td>\n",
       "      <td>NaN</td>\n",
       "      <td>25.766667</td>\n",
       "      <td>30.633333</td>\n",
       "      <td>20.366667</td>\n",
       "    </tr>\n",
       "    <tr>\n",
       "      <th>2022-08-16</th>\n",
       "      <td>41.841633</td>\n",
       "      <td>12.414933</td>\n",
       "      <td>127.833333</td>\n",
       "      <td>0.50</td>\n",
       "      <td>NaN</td>\n",
       "      <td>26.666667</td>\n",
       "      <td>31.266667</td>\n",
       "      <td>21.666667</td>\n",
       "    </tr>\n",
       "    <tr>\n",
       "      <th>2022-08-17</th>\n",
       "      <td>41.841633</td>\n",
       "      <td>12.414933</td>\n",
       "      <td>127.833333</td>\n",
       "      <td>0.15</td>\n",
       "      <td>NaN</td>\n",
       "      <td>27.800000</td>\n",
       "      <td>33.500000</td>\n",
       "      <td>23.400000</td>\n",
       "    </tr>\n",
       "    <tr>\n",
       "      <th>2022-08-18</th>\n",
       "      <td>41.841633</td>\n",
       "      <td>12.414933</td>\n",
       "      <td>127.833333</td>\n",
       "      <td>0.00</td>\n",
       "      <td>NaN</td>\n",
       "      <td>29.066667</td>\n",
       "      <td>34.800000</td>\n",
       "      <td>24.300000</td>\n",
       "    </tr>\n",
       "    <tr>\n",
       "      <th>2022-08-19</th>\n",
       "      <td>41.841633</td>\n",
       "      <td>12.414933</td>\n",
       "      <td>127.833333</td>\n",
       "      <td>3.55</td>\n",
       "      <td>NaN</td>\n",
       "      <td>25.033333</td>\n",
       "      <td>28.400000</td>\n",
       "      <td>21.000000</td>\n",
       "    </tr>\n",
       "  </tbody>\n",
       "</table>\n",
       "</div>"
      ],
      "text/plain": [
       "             LATITUDE  LONGITUDE   ELEVATION  PRCP  SNWD       TAVG  \\\n",
       "DATE                                                                  \n",
       "2022-08-15  41.841633  12.414933  127.833333  0.00   NaN  25.766667   \n",
       "2022-08-16  41.841633  12.414933  127.833333  0.50   NaN  26.666667   \n",
       "2022-08-17  41.841633  12.414933  127.833333  0.15   NaN  27.800000   \n",
       "2022-08-18  41.841633  12.414933  127.833333  0.00   NaN  29.066667   \n",
       "2022-08-19  41.841633  12.414933  127.833333  3.55   NaN  25.033333   \n",
       "\n",
       "                 TMAX       TMIN  \n",
       "DATE                              \n",
       "2022-08-15  30.633333  20.366667  \n",
       "2022-08-16  31.266667  21.666667  \n",
       "2022-08-17  33.500000  23.400000  \n",
       "2022-08-18  34.800000  24.300000  \n",
       "2022-08-19  28.400000  21.000000  "
      ]
     },
     "execution_count": 7,
     "metadata": {},
     "output_type": "execute_result"
    }
   ],
   "source": [
    "df.tail()"
   ]
  },
  {
   "cell_type": "code",
   "execution_count": 8,
   "id": "25fa7bbb",
   "metadata": {
    "scrolled": true
   },
   "outputs": [
    {
     "data": {
      "text/plain": [
       "LATITUDE     0.000000\n",
       "LONGITUDE    0.000000\n",
       "ELEVATION    0.000000\n",
       "PRCP         0.007624\n",
       "SNWD         0.998966\n",
       "TAVG         0.181327\n",
       "TMAX         0.004751\n",
       "TMIN         0.026282\n",
       "dtype: float64"
      ]
     },
     "execution_count": 8,
     "metadata": {},
     "output_type": "execute_result"
    }
   ],
   "source": [
    "df.isnull().sum()/df.shape[0]"
   ]
  },
  {
   "cell_type": "code",
   "execution_count": 9,
   "id": "6a184f64",
   "metadata": {},
   "outputs": [],
   "source": [
    "core_df = df[['PRCP', 'SNWD', 'TMAX', 'TMIN']].copy()"
   ]
  },
  {
   "cell_type": "code",
   "execution_count": 10,
   "id": "c82ea2d2",
   "metadata": {},
   "outputs": [],
   "source": [
    "core_df.columns = ['precip', 'snow_depth', 'temp_max', 'temp_min']"
   ]
  },
  {
   "cell_type": "code",
   "execution_count": 11,
   "id": "edac437c",
   "metadata": {},
   "outputs": [
    {
     "data": {
      "text/html": [
       "<div>\n",
       "<style scoped>\n",
       "    .dataframe tbody tr th:only-of-type {\n",
       "        vertical-align: middle;\n",
       "    }\n",
       "\n",
       "    .dataframe tbody tr th {\n",
       "        vertical-align: top;\n",
       "    }\n",
       "\n",
       "    .dataframe thead th {\n",
       "        text-align: right;\n",
       "    }\n",
       "</style>\n",
       "<table border=\"1\" class=\"dataframe\">\n",
       "  <thead>\n",
       "    <tr style=\"text-align: right;\">\n",
       "      <th></th>\n",
       "      <th>precip</th>\n",
       "      <th>snow_depth</th>\n",
       "      <th>temp_max</th>\n",
       "      <th>temp_min</th>\n",
       "    </tr>\n",
       "    <tr>\n",
       "      <th>DATE</th>\n",
       "      <th></th>\n",
       "      <th></th>\n",
       "      <th></th>\n",
       "      <th></th>\n",
       "    </tr>\n",
       "  </thead>\n",
       "  <tbody>\n",
       "    <tr>\n",
       "      <th>1951-03-01</th>\n",
       "      <td>0.2</td>\n",
       "      <td>NaN</td>\n",
       "      <td>13.2</td>\n",
       "      <td>3.0</td>\n",
       "    </tr>\n",
       "    <tr>\n",
       "      <th>1951-03-02</th>\n",
       "      <td>0.0</td>\n",
       "      <td>NaN</td>\n",
       "      <td>10.5</td>\n",
       "      <td>2.0</td>\n",
       "    </tr>\n",
       "    <tr>\n",
       "      <th>1951-03-03</th>\n",
       "      <td>0.0</td>\n",
       "      <td>NaN</td>\n",
       "      <td>8.6</td>\n",
       "      <td>-1.4</td>\n",
       "    </tr>\n",
       "    <tr>\n",
       "      <th>1951-03-04</th>\n",
       "      <td>0.0</td>\n",
       "      <td>NaN</td>\n",
       "      <td>13.6</td>\n",
       "      <td>-2.0</td>\n",
       "    </tr>\n",
       "    <tr>\n",
       "      <th>1951-03-05</th>\n",
       "      <td>0.1</td>\n",
       "      <td>NaN</td>\n",
       "      <td>15.2</td>\n",
       "      <td>2.7</td>\n",
       "    </tr>\n",
       "  </tbody>\n",
       "</table>\n",
       "</div>"
      ],
      "text/plain": [
       "            precip  snow_depth  temp_max  temp_min\n",
       "DATE                                              \n",
       "1951-03-01     0.2         NaN      13.2       3.0\n",
       "1951-03-02     0.0         NaN      10.5       2.0\n",
       "1951-03-03     0.0         NaN       8.6      -1.4\n",
       "1951-03-04     0.0         NaN      13.6      -2.0\n",
       "1951-03-05     0.1         NaN      15.2       2.7"
      ]
     },
     "execution_count": 11,
     "metadata": {},
     "output_type": "execute_result"
    }
   ],
   "source": [
    "core_df.head()"
   ]
  },
  {
   "cell_type": "code",
   "execution_count": null,
   "id": "45133b0f",
   "metadata": {},
   "outputs": [],
   "source": []
  },
  {
   "cell_type": "code",
   "execution_count": 12,
   "id": "ecb78ab6",
   "metadata": {},
   "outputs": [
    {
     "data": {
      "text/plain": [
       "precip        0.007624\n",
       "snow_depth    0.998966\n",
       "temp_max      0.004751\n",
       "temp_min      0.026282\n",
       "dtype: float64"
      ]
     },
     "execution_count": 12,
     "metadata": {},
     "output_type": "execute_result"
    }
   ],
   "source": [
    "core_df.isnull().sum()/core_df.shape[0]"
   ]
  },
  {
   "cell_type": "code",
   "execution_count": 13,
   "id": "152b7f17",
   "metadata": {},
   "outputs": [],
   "source": [
    "del core_df['snow_depth']"
   ]
  },
  {
   "cell_type": "code",
   "execution_count": 14,
   "id": "9b7c424c",
   "metadata": {},
   "outputs": [
    {
     "data": {
      "text/html": [
       "<div>\n",
       "<style scoped>\n",
       "    .dataframe tbody tr th:only-of-type {\n",
       "        vertical-align: middle;\n",
       "    }\n",
       "\n",
       "    .dataframe tbody tr th {\n",
       "        vertical-align: top;\n",
       "    }\n",
       "\n",
       "    .dataframe thead th {\n",
       "        text-align: right;\n",
       "    }\n",
       "</style>\n",
       "<table border=\"1\" class=\"dataframe\">\n",
       "  <thead>\n",
       "    <tr style=\"text-align: right;\">\n",
       "      <th></th>\n",
       "      <th>precip</th>\n",
       "      <th>temp_max</th>\n",
       "      <th>temp_min</th>\n",
       "    </tr>\n",
       "    <tr>\n",
       "      <th>DATE</th>\n",
       "      <th></th>\n",
       "      <th></th>\n",
       "      <th></th>\n",
       "    </tr>\n",
       "  </thead>\n",
       "  <tbody>\n",
       "    <tr>\n",
       "      <th>1978-10-10</th>\n",
       "      <td>9.6</td>\n",
       "      <td>22.25</td>\n",
       "      <td>12.10</td>\n",
       "    </tr>\n",
       "    <tr>\n",
       "      <th>1978-10-11</th>\n",
       "      <td>0.0</td>\n",
       "      <td>24.10</td>\n",
       "      <td>11.90</td>\n",
       "    </tr>\n",
       "    <tr>\n",
       "      <th>1978-10-12</th>\n",
       "      <td>0.0</td>\n",
       "      <td>25.20</td>\n",
       "      <td>12.50</td>\n",
       "    </tr>\n",
       "    <tr>\n",
       "      <th>1978-10-13</th>\n",
       "      <td>0.0</td>\n",
       "      <td>24.85</td>\n",
       "      <td>12.75</td>\n",
       "    </tr>\n",
       "    <tr>\n",
       "      <th>1978-10-14</th>\n",
       "      <td>NaN</td>\n",
       "      <td>23.70</td>\n",
       "      <td>12.40</td>\n",
       "    </tr>\n",
       "    <tr>\n",
       "      <th>1978-10-15</th>\n",
       "      <td>NaN</td>\n",
       "      <td>23.25</td>\n",
       "      <td>11.45</td>\n",
       "    </tr>\n",
       "    <tr>\n",
       "      <th>1978-10-16</th>\n",
       "      <td>0.0</td>\n",
       "      <td>21.85</td>\n",
       "      <td>11.10</td>\n",
       "    </tr>\n",
       "    <tr>\n",
       "      <th>1978-10-17</th>\n",
       "      <td>NaN</td>\n",
       "      <td>20.20</td>\n",
       "      <td>9.90</td>\n",
       "    </tr>\n",
       "    <tr>\n",
       "      <th>1978-10-18</th>\n",
       "      <td>NaN</td>\n",
       "      <td>20.40</td>\n",
       "      <td>12.60</td>\n",
       "    </tr>\n",
       "    <tr>\n",
       "      <th>1978-10-19</th>\n",
       "      <td>NaN</td>\n",
       "      <td>22.45</td>\n",
       "      <td>12.55</td>\n",
       "    </tr>\n",
       "    <tr>\n",
       "      <th>1978-10-20</th>\n",
       "      <td>NaN</td>\n",
       "      <td>19.90</td>\n",
       "      <td>13.95</td>\n",
       "    </tr>\n",
       "    <tr>\n",
       "      <th>1978-10-21</th>\n",
       "      <td>19.2</td>\n",
       "      <td>19.60</td>\n",
       "      <td>11.80</td>\n",
       "    </tr>\n",
       "    <tr>\n",
       "      <th>1978-10-22</th>\n",
       "      <td>19.2</td>\n",
       "      <td>18.75</td>\n",
       "      <td>9.10</td>\n",
       "    </tr>\n",
       "    <tr>\n",
       "      <th>1978-10-23</th>\n",
       "      <td>19.2</td>\n",
       "      <td>19.80</td>\n",
       "      <td>7.00</td>\n",
       "    </tr>\n",
       "    <tr>\n",
       "      <th>1978-10-24</th>\n",
       "      <td>19.2</td>\n",
       "      <td>21.20</td>\n",
       "      <td>8.80</td>\n",
       "    </tr>\n",
       "    <tr>\n",
       "      <th>1978-10-25</th>\n",
       "      <td>19.2</td>\n",
       "      <td>19.45</td>\n",
       "      <td>8.45</td>\n",
       "    </tr>\n",
       "  </tbody>\n",
       "</table>\n",
       "</div>"
      ],
      "text/plain": [
       "            precip  temp_max  temp_min\n",
       "DATE                                  \n",
       "1978-10-10     9.6     22.25     12.10\n",
       "1978-10-11     0.0     24.10     11.90\n",
       "1978-10-12     0.0     25.20     12.50\n",
       "1978-10-13     0.0     24.85     12.75\n",
       "1978-10-14     NaN     23.70     12.40\n",
       "1978-10-15     NaN     23.25     11.45\n",
       "1978-10-16     0.0     21.85     11.10\n",
       "1978-10-17     NaN     20.20      9.90\n",
       "1978-10-18     NaN     20.40     12.60\n",
       "1978-10-19     NaN     22.45     12.55\n",
       "1978-10-20     NaN     19.90     13.95\n",
       "1978-10-21    19.2     19.60     11.80\n",
       "1978-10-22    19.2     18.75      9.10\n",
       "1978-10-23    19.2     19.80      7.00\n",
       "1978-10-24    19.2     21.20      8.80\n",
       "1978-10-25    19.2     19.45      8.45"
      ]
     },
     "execution_count": 14,
     "metadata": {},
     "output_type": "execute_result"
    }
   ],
   "source": [
    "core_df.loc['1978-10-10':'1978-10-25',:]"
   ]
  },
  {
   "cell_type": "code",
   "execution_count": 15,
   "id": "d42902ee",
   "metadata": {},
   "outputs": [
    {
     "data": {
      "text/html": [
       "<div>\n",
       "<style scoped>\n",
       "    .dataframe tbody tr th:only-of-type {\n",
       "        vertical-align: middle;\n",
       "    }\n",
       "\n",
       "    .dataframe tbody tr th {\n",
       "        vertical-align: top;\n",
       "    }\n",
       "\n",
       "    .dataframe thead th {\n",
       "        text-align: right;\n",
       "    }\n",
       "</style>\n",
       "<table border=\"1\" class=\"dataframe\">\n",
       "  <thead>\n",
       "    <tr style=\"text-align: right;\">\n",
       "      <th></th>\n",
       "      <th>count</th>\n",
       "      <th>mean</th>\n",
       "      <th>std</th>\n",
       "      <th>min</th>\n",
       "      <th>25%</th>\n",
       "      <th>50%</th>\n",
       "      <th>75%</th>\n",
       "      <th>max</th>\n",
       "    </tr>\n",
       "  </thead>\n",
       "  <tbody>\n",
       "    <tr>\n",
       "      <th>precip</th>\n",
       "      <td>25903.0</td>\n",
       "      <td>2.251032</td>\n",
       "      <td>6.821218</td>\n",
       "      <td>0.00</td>\n",
       "      <td>0.0</td>\n",
       "      <td>0.0</td>\n",
       "      <td>0.50</td>\n",
       "      <td>213.0</td>\n",
       "    </tr>\n",
       "    <tr>\n",
       "      <th>temp_max</th>\n",
       "      <td>25978.0</td>\n",
       "      <td>20.821832</td>\n",
       "      <td>20.607915</td>\n",
       "      <td>-2.15</td>\n",
       "      <td>14.1</td>\n",
       "      <td>19.6</td>\n",
       "      <td>26.50</td>\n",
       "      <td>999.0</td>\n",
       "    </tr>\n",
       "    <tr>\n",
       "      <th>temp_min</th>\n",
       "      <td>25416.0</td>\n",
       "      <td>11.679143</td>\n",
       "      <td>24.055091</td>\n",
       "      <td>-7.70</td>\n",
       "      <td>5.9</td>\n",
       "      <td>10.6</td>\n",
       "      <td>15.95</td>\n",
       "      <td>999.0</td>\n",
       "    </tr>\n",
       "  </tbody>\n",
       "</table>\n",
       "</div>"
      ],
      "text/plain": [
       "            count       mean        std   min   25%   50%    75%    max\n",
       "precip    25903.0   2.251032   6.821218  0.00   0.0   0.0   0.50  213.0\n",
       "temp_max  25978.0  20.821832  20.607915 -2.15  14.1  19.6  26.50  999.0\n",
       "temp_min  25416.0  11.679143  24.055091 -7.70   5.9  10.6  15.95  999.0"
      ]
     },
     "execution_count": 15,
     "metadata": {},
     "output_type": "execute_result"
    }
   ],
   "source": [
    "core_df.describe().transpose()"
   ]
  },
  {
   "cell_type": "code",
   "execution_count": 16,
   "id": "74ca69bd",
   "metadata": {},
   "outputs": [],
   "source": [
    "core_df.ffill(axis=0, inplace=True)"
   ]
  },
  {
   "cell_type": "code",
   "execution_count": 17,
   "id": "bcfcaf54",
   "metadata": {},
   "outputs": [
    {
     "data": {
      "text/html": [
       "<div>\n",
       "<style scoped>\n",
       "    .dataframe tbody tr th:only-of-type {\n",
       "        vertical-align: middle;\n",
       "    }\n",
       "\n",
       "    .dataframe tbody tr th {\n",
       "        vertical-align: top;\n",
       "    }\n",
       "\n",
       "    .dataframe thead th {\n",
       "        text-align: right;\n",
       "    }\n",
       "</style>\n",
       "<table border=\"1\" class=\"dataframe\">\n",
       "  <thead>\n",
       "    <tr style=\"text-align: right;\">\n",
       "      <th></th>\n",
       "      <th>count</th>\n",
       "      <th>mean</th>\n",
       "      <th>std</th>\n",
       "      <th>min</th>\n",
       "      <th>25%</th>\n",
       "      <th>50%</th>\n",
       "      <th>75%</th>\n",
       "      <th>max</th>\n",
       "    </tr>\n",
       "  </thead>\n",
       "  <tbody>\n",
       "    <tr>\n",
       "      <th>precip</th>\n",
       "      <td>26102.0</td>\n",
       "      <td>2.250332</td>\n",
       "      <td>6.823393</td>\n",
       "      <td>0.00</td>\n",
       "      <td>0.0</td>\n",
       "      <td>0.0</td>\n",
       "      <td>0.500000</td>\n",
       "      <td>213.0</td>\n",
       "    </tr>\n",
       "    <tr>\n",
       "      <th>temp_max</th>\n",
       "      <td>26102.0</td>\n",
       "      <td>20.813576</td>\n",
       "      <td>20.564727</td>\n",
       "      <td>-2.15</td>\n",
       "      <td>14.1</td>\n",
       "      <td>19.6</td>\n",
       "      <td>26.466667</td>\n",
       "      <td>999.0</td>\n",
       "    </tr>\n",
       "    <tr>\n",
       "      <th>temp_min</th>\n",
       "      <td>26102.0</td>\n",
       "      <td>11.706327</td>\n",
       "      <td>24.527919</td>\n",
       "      <td>-7.70</td>\n",
       "      <td>5.9</td>\n",
       "      <td>10.6</td>\n",
       "      <td>15.933333</td>\n",
       "      <td>999.0</td>\n",
       "    </tr>\n",
       "  </tbody>\n",
       "</table>\n",
       "</div>"
      ],
      "text/plain": [
       "            count       mean        std   min   25%   50%        75%    max\n",
       "precip    26102.0   2.250332   6.823393  0.00   0.0   0.0   0.500000  213.0\n",
       "temp_max  26102.0  20.813576  20.564727 -2.15  14.1  19.6  26.466667  999.0\n",
       "temp_min  26102.0  11.706327  24.527919 -7.70   5.9  10.6  15.933333  999.0"
      ]
     },
     "execution_count": 17,
     "metadata": {},
     "output_type": "execute_result"
    }
   ],
   "source": [
    "core_df.describe().transpose()"
   ]
  },
  {
   "cell_type": "code",
   "execution_count": 18,
   "id": "72bc66a3",
   "metadata": {},
   "outputs": [
    {
     "data": {
      "text/plain": [
       "precip      0\n",
       "temp_max    0\n",
       "temp_min    0\n",
       "dtype: int64"
      ]
     },
     "execution_count": 18,
     "metadata": {},
     "output_type": "execute_result"
    }
   ],
   "source": [
    "core_df.apply(pd.isnull).sum()"
   ]
  },
  {
   "cell_type": "code",
   "execution_count": 19,
   "id": "526efca3",
   "metadata": {},
   "outputs": [],
   "source": [
    "core_df.index = pd.to_datetime(core_df.index)"
   ]
  },
  {
   "cell_type": "code",
   "execution_count": 20,
   "id": "4c8bba8a",
   "metadata": {},
   "outputs": [
    {
     "data": {
      "text/plain": [
       "<AxesSubplot:xlabel='DATE'>"
      ]
     },
     "execution_count": 20,
     "metadata": {},
     "output_type": "execute_result"
    },
    {
     "data": {
      "image/png": "[encoded data removed]",
      "text/plain": [
       "<Figure size 432x288 with 1 Axes>"
      ]
     },
     "metadata": {
      "needs_background": "light"
     },
     "output_type": "display_data"
    }
   ],
   "source": [
    "core_df[['temp_max']].plot()"
   ]
  },
  {
   "cell_type": "code",
   "execution_count": 21,
   "id": "c28e9da6",
   "metadata": {},
   "outputs": [
    {
     "data": {
      "text/plain": [
       "precip      0\n",
       "temp_max    3\n",
       "temp_min    5\n",
       "dtype: int64"
      ]
     },
     "execution_count": 21,
     "metadata": {},
     "output_type": "execute_result"
    }
   ],
   "source": [
    "core_df.apply(lambda x: (x==999).sum())"
   ]
  },
  {
   "cell_type": "code",
   "execution_count": 22,
   "id": "34a8491b",
   "metadata": {},
   "outputs": [],
   "source": [
    "core_df[core_df['temp_max'] == 999] = np.nan\n",
    "core_df[core_df['temp_min'] == 999] = np.nan"
   ]
  },
  {
   "cell_type": "code",
   "execution_count": 23,
   "id": "c9182e2f",
   "metadata": {},
   "outputs": [
    {
     "data": {
      "text/html": [
       "<div>\n",
       "<style scoped>\n",
       "    .dataframe tbody tr th:only-of-type {\n",
       "        vertical-align: middle;\n",
       "    }\n",
       "\n",
       "    .dataframe tbody tr th {\n",
       "        vertical-align: top;\n",
       "    }\n",
       "\n",
       "    .dataframe thead th {\n",
       "        text-align: right;\n",
       "    }\n",
       "</style>\n",
       "<table border=\"1\" class=\"dataframe\">\n",
       "  <thead>\n",
       "    <tr style=\"text-align: right;\">\n",
       "      <th></th>\n",
       "      <th>precip</th>\n",
       "      <th>temp_max</th>\n",
       "      <th>temp_min</th>\n",
       "    </tr>\n",
       "    <tr>\n",
       "      <th>DATE</th>\n",
       "      <th></th>\n",
       "      <th></th>\n",
       "      <th></th>\n",
       "    </tr>\n",
       "  </thead>\n",
       "  <tbody>\n",
       "    <tr>\n",
       "      <th>1951-03-01</th>\n",
       "      <td>0.20</td>\n",
       "      <td>13.200000</td>\n",
       "      <td>3.000000</td>\n",
       "    </tr>\n",
       "    <tr>\n",
       "      <th>1951-03-02</th>\n",
       "      <td>0.00</td>\n",
       "      <td>10.500000</td>\n",
       "      <td>2.000000</td>\n",
       "    </tr>\n",
       "    <tr>\n",
       "      <th>1951-03-03</th>\n",
       "      <td>0.00</td>\n",
       "      <td>8.600000</td>\n",
       "      <td>-1.400000</td>\n",
       "    </tr>\n",
       "    <tr>\n",
       "      <th>1951-03-04</th>\n",
       "      <td>0.00</td>\n",
       "      <td>13.600000</td>\n",
       "      <td>-2.000000</td>\n",
       "    </tr>\n",
       "    <tr>\n",
       "      <th>1951-03-05</th>\n",
       "      <td>0.10</td>\n",
       "      <td>15.200000</td>\n",
       "      <td>2.700000</td>\n",
       "    </tr>\n",
       "    <tr>\n",
       "      <th>...</th>\n",
       "      <td>...</td>\n",
       "      <td>...</td>\n",
       "      <td>...</td>\n",
       "    </tr>\n",
       "    <tr>\n",
       "      <th>2022-08-15</th>\n",
       "      <td>0.00</td>\n",
       "      <td>30.633333</td>\n",
       "      <td>20.366667</td>\n",
       "    </tr>\n",
       "    <tr>\n",
       "      <th>2022-08-16</th>\n",
       "      <td>0.50</td>\n",
       "      <td>31.266667</td>\n",
       "      <td>21.666667</td>\n",
       "    </tr>\n",
       "    <tr>\n",
       "      <th>2022-08-17</th>\n",
       "      <td>0.15</td>\n",
       "      <td>33.500000</td>\n",
       "      <td>23.400000</td>\n",
       "    </tr>\n",
       "    <tr>\n",
       "      <th>2022-08-18</th>\n",
       "      <td>0.00</td>\n",
       "      <td>34.800000</td>\n",
       "      <td>24.300000</td>\n",
       "    </tr>\n",
       "    <tr>\n",
       "      <th>2022-08-19</th>\n",
       "      <td>3.55</td>\n",
       "      <td>28.400000</td>\n",
       "      <td>21.000000</td>\n",
       "    </tr>\n",
       "  </tbody>\n",
       "</table>\n",
       "<p>26102 rows × 3 columns</p>\n",
       "</div>"
      ],
      "text/plain": [
       "            precip   temp_max   temp_min\n",
       "DATE                                    \n",
       "1951-03-01    0.20  13.200000   3.000000\n",
       "1951-03-02    0.00  10.500000   2.000000\n",
       "1951-03-03    0.00   8.600000  -1.400000\n",
       "1951-03-04    0.00  13.600000  -2.000000\n",
       "1951-03-05    0.10  15.200000   2.700000\n",
       "...            ...        ...        ...\n",
       "2022-08-15    0.00  30.633333  20.366667\n",
       "2022-08-16    0.50  31.266667  21.666667\n",
       "2022-08-17    0.15  33.500000  23.400000\n",
       "2022-08-18    0.00  34.800000  24.300000\n",
       "2022-08-19    3.55  28.400000  21.000000\n",
       "\n",
       "[26102 rows x 3 columns]"
      ]
     },
     "execution_count": 23,
     "metadata": {},
     "output_type": "execute_result"
    }
   ],
   "source": [
    "core_df"
   ]
  },
  {
   "cell_type": "code",
   "execution_count": 24,
   "id": "7ac78a2e",
   "metadata": {},
   "outputs": [
    {
     "data": {
      "text/html": [
       "<div>\n",
       "<style scoped>\n",
       "    .dataframe tbody tr th:only-of-type {\n",
       "        vertical-align: middle;\n",
       "    }\n",
       "\n",
       "    .dataframe tbody tr th {\n",
       "        vertical-align: top;\n",
       "    }\n",
       "\n",
       "    .dataframe thead th {\n",
       "        text-align: right;\n",
       "    }\n",
       "</style>\n",
       "<table border=\"1\" class=\"dataframe\">\n",
       "  <thead>\n",
       "    <tr style=\"text-align: right;\">\n",
       "      <th></th>\n",
       "      <th>count</th>\n",
       "      <th>mean</th>\n",
       "      <th>std</th>\n",
       "      <th>min</th>\n",
       "      <th>25%</th>\n",
       "      <th>50%</th>\n",
       "      <th>75%</th>\n",
       "      <th>max</th>\n",
       "    </tr>\n",
       "  </thead>\n",
       "  <tbody>\n",
       "    <tr>\n",
       "      <th>precip</th>\n",
       "      <td>26097.0</td>\n",
       "      <td>2.249399</td>\n",
       "      <td>6.820866</td>\n",
       "      <td>0.00</td>\n",
       "      <td>0.0</td>\n",
       "      <td>0.0</td>\n",
       "      <td>0.500000</td>\n",
       "      <td>213.0</td>\n",
       "    </tr>\n",
       "    <tr>\n",
       "      <th>temp_max</th>\n",
       "      <td>26097.0</td>\n",
       "      <td>20.701696</td>\n",
       "      <td>17.691038</td>\n",
       "      <td>-2.15</td>\n",
       "      <td>14.1</td>\n",
       "      <td>19.6</td>\n",
       "      <td>26.466667</td>\n",
       "      <td>515.2</td>\n",
       "    </tr>\n",
       "    <tr>\n",
       "      <th>temp_min</th>\n",
       "      <td>26097.0</td>\n",
       "      <td>11.517169</td>\n",
       "      <td>20.369983</td>\n",
       "      <td>-7.70</td>\n",
       "      <td>5.9</td>\n",
       "      <td>10.6</td>\n",
       "      <td>15.933333</td>\n",
       "      <td>508.7</td>\n",
       "    </tr>\n",
       "  </tbody>\n",
       "</table>\n",
       "</div>"
      ],
      "text/plain": [
       "            count       mean        std   min   25%   50%        75%    max\n",
       "precip    26097.0   2.249399   6.820866  0.00   0.0   0.0   0.500000  213.0\n",
       "temp_max  26097.0  20.701696  17.691038 -2.15  14.1  19.6  26.466667  515.2\n",
       "temp_min  26097.0  11.517169  20.369983 -7.70   5.9  10.6  15.933333  508.7"
      ]
     },
     "execution_count": 24,
     "metadata": {},
     "output_type": "execute_result"
    }
   ],
   "source": [
    "core_df.describe().transpose()"
   ]
  },
  {
   "cell_type": "code",
   "execution_count": 25,
   "id": "45d37f3a",
   "metadata": {},
   "outputs": [],
   "source": [
    "def IQR_calc(column):\n",
    "    Q1 = core_df[column].quantile(0.25)\n",
    "    Q3 = core_df[column].quantile(0.75)\n",
    "    return Q3 - Q1"
   ]
  },
  {
   "cell_type": "code",
   "execution_count": 26,
   "id": "130fc320",
   "metadata": {},
   "outputs": [],
   "source": [
    "IQR_temp_min = IQR_calc('temp_min')\n",
    "\n",
    "lower_lim_min = core_df['temp_min'].quantile(0.25) - 5 * IQR_temp_min\n",
    "upper_lim_min = core_df['temp_min'].quantile(0.75) + 5 * IQR_temp_min\n",
    "\n",
    "\n",
    "IQR_temp_max = IQR_calc('temp_max')\n",
    "\n",
    "lower_lim_max = core_df['temp_max'].quantile(0.25) - 5 *IQR_temp_max\n",
    "upper_lim_max = core_df['temp_max'].quantile(0.75) + 5 *IQR_temp_max"
   ]
  },
  {
   "cell_type": "code",
   "execution_count": 27,
   "id": "faf43b0e",
   "metadata": {},
   "outputs": [],
   "source": [
    "#IQR_precip = IQR_calc('precip')\n",
    "\n",
    "#lower_lim_precip = 0\n",
    "#upper_lim_precip = 10\n",
    "\n",
    "#print(lower_lim_precip, upper_lim_precip)"
   ]
  },
  {
   "cell_type": "code",
   "execution_count": 28,
   "id": "71ba8b51",
   "metadata": {},
   "outputs": [],
   "source": [
    "core_df.loc[core_df['temp_max'] > upper_lim_max, 'temp_max'] = np.nan\n",
    "core_df.loc[core_df['temp_max'] < lower_lim_max, 'temp_max'] = np.nan\n",
    "core_df.loc[core_df['temp_min'] > upper_lim_min, 'temp_min'] = np.nan\n",
    "core_df.loc[core_df['temp_min'] < lower_lim_max, 'temp_min'] = np.nan\n",
    "#core_df.loc[core_df['precip'] > upper_lim_precip, 'precip'] = np.nan\n",
    "#core_df.loc[core_df['precip'] < lower_lim_precip, 'precip'] = np.nan\n"
   ]
  },
  {
   "cell_type": "code",
   "execution_count": 29,
   "id": "564bfaef",
   "metadata": {},
   "outputs": [],
   "source": [
    "core_df['target'] = core_df.shift(-1)['temp_max']"
   ]
  },
  {
   "cell_type": "code",
   "execution_count": 30,
   "id": "029b3da6",
   "metadata": {},
   "outputs": [
    {
     "data": {
      "text/html": [
       "<div>\n",
       "<style scoped>\n",
       "    .dataframe tbody tr th:only-of-type {\n",
       "        vertical-align: middle;\n",
       "    }\n",
       "\n",
       "    .dataframe tbody tr th {\n",
       "        vertical-align: top;\n",
       "    }\n",
       "\n",
       "    .dataframe thead th {\n",
       "        text-align: right;\n",
       "    }\n",
       "</style>\n",
       "<table border=\"1\" class=\"dataframe\">\n",
       "  <thead>\n",
       "    <tr style=\"text-align: right;\">\n",
       "      <th></th>\n",
       "      <th>precip</th>\n",
       "      <th>temp_max</th>\n",
       "      <th>temp_min</th>\n",
       "      <th>target</th>\n",
       "    </tr>\n",
       "    <tr>\n",
       "      <th>DATE</th>\n",
       "      <th></th>\n",
       "      <th></th>\n",
       "      <th></th>\n",
       "      <th></th>\n",
       "    </tr>\n",
       "  </thead>\n",
       "  <tbody>\n",
       "    <tr>\n",
       "      <th>1951-03-01</th>\n",
       "      <td>0.20</td>\n",
       "      <td>13.200000</td>\n",
       "      <td>3.000000</td>\n",
       "      <td>10.500000</td>\n",
       "    </tr>\n",
       "    <tr>\n",
       "      <th>1951-03-02</th>\n",
       "      <td>0.00</td>\n",
       "      <td>10.500000</td>\n",
       "      <td>2.000000</td>\n",
       "      <td>8.600000</td>\n",
       "    </tr>\n",
       "    <tr>\n",
       "      <th>1951-03-03</th>\n",
       "      <td>0.00</td>\n",
       "      <td>8.600000</td>\n",
       "      <td>-1.400000</td>\n",
       "      <td>13.600000</td>\n",
       "    </tr>\n",
       "    <tr>\n",
       "      <th>1951-03-04</th>\n",
       "      <td>0.00</td>\n",
       "      <td>13.600000</td>\n",
       "      <td>-2.000000</td>\n",
       "      <td>15.200000</td>\n",
       "    </tr>\n",
       "    <tr>\n",
       "      <th>1951-03-05</th>\n",
       "      <td>0.10</td>\n",
       "      <td>15.200000</td>\n",
       "      <td>2.700000</td>\n",
       "      <td>18.000000</td>\n",
       "    </tr>\n",
       "    <tr>\n",
       "      <th>...</th>\n",
       "      <td>...</td>\n",
       "      <td>...</td>\n",
       "      <td>...</td>\n",
       "      <td>...</td>\n",
       "    </tr>\n",
       "    <tr>\n",
       "      <th>2022-08-15</th>\n",
       "      <td>0.00</td>\n",
       "      <td>30.633333</td>\n",
       "      <td>20.366667</td>\n",
       "      <td>31.266667</td>\n",
       "    </tr>\n",
       "    <tr>\n",
       "      <th>2022-08-16</th>\n",
       "      <td>0.50</td>\n",
       "      <td>31.266667</td>\n",
       "      <td>21.666667</td>\n",
       "      <td>33.500000</td>\n",
       "    </tr>\n",
       "    <tr>\n",
       "      <th>2022-08-17</th>\n",
       "      <td>0.15</td>\n",
       "      <td>33.500000</td>\n",
       "      <td>23.400000</td>\n",
       "      <td>34.800000</td>\n",
       "    </tr>\n",
       "    <tr>\n",
       "      <th>2022-08-18</th>\n",
       "      <td>0.00</td>\n",
       "      <td>34.800000</td>\n",
       "      <td>24.300000</td>\n",
       "      <td>28.400000</td>\n",
       "    </tr>\n",
       "    <tr>\n",
       "      <th>2022-08-19</th>\n",
       "      <td>3.55</td>\n",
       "      <td>28.400000</td>\n",
       "      <td>21.000000</td>\n",
       "      <td>NaN</td>\n",
       "    </tr>\n",
       "  </tbody>\n",
       "</table>\n",
       "<p>26102 rows × 4 columns</p>\n",
       "</div>"
      ],
      "text/plain": [
       "            precip   temp_max   temp_min     target\n",
       "DATE                                               \n",
       "1951-03-01    0.20  13.200000   3.000000  10.500000\n",
       "1951-03-02    0.00  10.500000   2.000000   8.600000\n",
       "1951-03-03    0.00   8.600000  -1.400000  13.600000\n",
       "1951-03-04    0.00  13.600000  -2.000000  15.200000\n",
       "1951-03-05    0.10  15.200000   2.700000  18.000000\n",
       "...            ...        ...        ...        ...\n",
       "2022-08-15    0.00  30.633333  20.366667  31.266667\n",
       "2022-08-16    0.50  31.266667  21.666667  33.500000\n",
       "2022-08-17    0.15  33.500000  23.400000  34.800000\n",
       "2022-08-18    0.00  34.800000  24.300000  28.400000\n",
       "2022-08-19    3.55  28.400000  21.000000        NaN\n",
       "\n",
       "[26102 rows x 4 columns]"
      ]
     },
     "execution_count": 30,
     "metadata": {},
     "output_type": "execute_result"
    }
   ],
   "source": [
    "core_df"
   ]
  },
  {
   "cell_type": "code",
   "execution_count": 31,
   "id": "7abf4ec3",
   "metadata": {},
   "outputs": [],
   "source": [
    "core_df = core_df.iloc[:-1,:].copy()"
   ]
  },
  {
   "cell_type": "code",
   "execution_count": 32,
   "id": "29a5c355",
   "metadata": {},
   "outputs": [
    {
     "data": {
      "text/html": [
       "<div>\n",
       "<style scoped>\n",
       "    .dataframe tbody tr th:only-of-type {\n",
       "        vertical-align: middle;\n",
       "    }\n",
       "\n",
       "    .dataframe tbody tr th {\n",
       "        vertical-align: top;\n",
       "    }\n",
       "\n",
       "    .dataframe thead th {\n",
       "        text-align: right;\n",
       "    }\n",
       "</style>\n",
       "<table border=\"1\" class=\"dataframe\">\n",
       "  <thead>\n",
       "    <tr style=\"text-align: right;\">\n",
       "      <th></th>\n",
       "      <th>precip</th>\n",
       "      <th>temp_max</th>\n",
       "      <th>temp_min</th>\n",
       "      <th>target</th>\n",
       "    </tr>\n",
       "    <tr>\n",
       "      <th>DATE</th>\n",
       "      <th></th>\n",
       "      <th></th>\n",
       "      <th></th>\n",
       "      <th></th>\n",
       "    </tr>\n",
       "  </thead>\n",
       "  <tbody>\n",
       "    <tr>\n",
       "      <th>1951-03-01</th>\n",
       "      <td>0.20</td>\n",
       "      <td>13.200000</td>\n",
       "      <td>3.000000</td>\n",
       "      <td>10.500000</td>\n",
       "    </tr>\n",
       "    <tr>\n",
       "      <th>1951-03-02</th>\n",
       "      <td>0.00</td>\n",
       "      <td>10.500000</td>\n",
       "      <td>2.000000</td>\n",
       "      <td>8.600000</td>\n",
       "    </tr>\n",
       "    <tr>\n",
       "      <th>1951-03-03</th>\n",
       "      <td>0.00</td>\n",
       "      <td>8.600000</td>\n",
       "      <td>-1.400000</td>\n",
       "      <td>13.600000</td>\n",
       "    </tr>\n",
       "    <tr>\n",
       "      <th>1951-03-04</th>\n",
       "      <td>0.00</td>\n",
       "      <td>13.600000</td>\n",
       "      <td>-2.000000</td>\n",
       "      <td>15.200000</td>\n",
       "    </tr>\n",
       "    <tr>\n",
       "      <th>1951-03-05</th>\n",
       "      <td>0.10</td>\n",
       "      <td>15.200000</td>\n",
       "      <td>2.700000</td>\n",
       "      <td>18.000000</td>\n",
       "    </tr>\n",
       "    <tr>\n",
       "      <th>...</th>\n",
       "      <td>...</td>\n",
       "      <td>...</td>\n",
       "      <td>...</td>\n",
       "      <td>...</td>\n",
       "    </tr>\n",
       "    <tr>\n",
       "      <th>2022-08-14</th>\n",
       "      <td>0.00</td>\n",
       "      <td>31.450000</td>\n",
       "      <td>17.800000</td>\n",
       "      <td>30.633333</td>\n",
       "    </tr>\n",
       "    <tr>\n",
       "      <th>2022-08-15</th>\n",
       "      <td>0.00</td>\n",
       "      <td>30.633333</td>\n",
       "      <td>20.366667</td>\n",
       "      <td>31.266667</td>\n",
       "    </tr>\n",
       "    <tr>\n",
       "      <th>2022-08-16</th>\n",
       "      <td>0.50</td>\n",
       "      <td>31.266667</td>\n",
       "      <td>21.666667</td>\n",
       "      <td>33.500000</td>\n",
       "    </tr>\n",
       "    <tr>\n",
       "      <th>2022-08-17</th>\n",
       "      <td>0.15</td>\n",
       "      <td>33.500000</td>\n",
       "      <td>23.400000</td>\n",
       "      <td>34.800000</td>\n",
       "    </tr>\n",
       "    <tr>\n",
       "      <th>2022-08-18</th>\n",
       "      <td>0.00</td>\n",
       "      <td>34.800000</td>\n",
       "      <td>24.300000</td>\n",
       "      <td>28.400000</td>\n",
       "    </tr>\n",
       "  </tbody>\n",
       "</table>\n",
       "<p>26101 rows × 4 columns</p>\n",
       "</div>"
      ],
      "text/plain": [
       "            precip   temp_max   temp_min     target\n",
       "DATE                                               \n",
       "1951-03-01    0.20  13.200000   3.000000  10.500000\n",
       "1951-03-02    0.00  10.500000   2.000000   8.600000\n",
       "1951-03-03    0.00   8.600000  -1.400000  13.600000\n",
       "1951-03-04    0.00  13.600000  -2.000000  15.200000\n",
       "1951-03-05    0.10  15.200000   2.700000  18.000000\n",
       "...            ...        ...        ...        ...\n",
       "2022-08-14    0.00  31.450000  17.800000  30.633333\n",
       "2022-08-15    0.00  30.633333  20.366667  31.266667\n",
       "2022-08-16    0.50  31.266667  21.666667  33.500000\n",
       "2022-08-17    0.15  33.500000  23.400000  34.800000\n",
       "2022-08-18    0.00  34.800000  24.300000  28.400000\n",
       "\n",
       "[26101 rows x 4 columns]"
      ]
     },
     "execution_count": 32,
     "metadata": {},
     "output_type": "execute_result"
    }
   ],
   "source": [
    "core_df"
   ]
  },
  {
   "cell_type": "code",
   "execution_count": 33,
   "id": "562e8e6b",
   "metadata": {},
   "outputs": [],
   "source": [
    "from sklearn.linear_model import Ridge\n",
    "reg = Ridge(alpha=0.1)"
   ]
  },
  {
   "cell_type": "code",
   "execution_count": 34,
   "id": "af5024a4",
   "metadata": {},
   "outputs": [],
   "source": [
    "predictors = ['precip', 'temp_max', 'temp_min']"
   ]
  },
  {
   "cell_type": "code",
   "execution_count": 35,
   "id": "bae943ce",
   "metadata": {},
   "outputs": [
    {
     "data": {
      "text/html": [
       "<div>\n",
       "<style scoped>\n",
       "    .dataframe tbody tr th:only-of-type {\n",
       "        vertical-align: middle;\n",
       "    }\n",
       "\n",
       "    .dataframe tbody tr th {\n",
       "        vertical-align: top;\n",
       "    }\n",
       "\n",
       "    .dataframe thead th {\n",
       "        text-align: right;\n",
       "    }\n",
       "</style>\n",
       "<table border=\"1\" class=\"dataframe\">\n",
       "  <thead>\n",
       "    <tr style=\"text-align: right;\">\n",
       "      <th></th>\n",
       "      <th>precip</th>\n",
       "      <th>temp_max</th>\n",
       "      <th>temp_min</th>\n",
       "      <th>target</th>\n",
       "    </tr>\n",
       "    <tr>\n",
       "      <th>DATE</th>\n",
       "      <th></th>\n",
       "      <th></th>\n",
       "      <th></th>\n",
       "      <th></th>\n",
       "    </tr>\n",
       "  </thead>\n",
       "  <tbody>\n",
       "    <tr>\n",
       "      <th>2021-01-01</th>\n",
       "      <td>6.40</td>\n",
       "      <td>11.750000</td>\n",
       "      <td>4.133333</td>\n",
       "      <td>13.000000</td>\n",
       "    </tr>\n",
       "    <tr>\n",
       "      <th>2021-01-02</th>\n",
       "      <td>27.95</td>\n",
       "      <td>13.000000</td>\n",
       "      <td>4.133333</td>\n",
       "      <td>13.000000</td>\n",
       "    </tr>\n",
       "    <tr>\n",
       "      <th>2021-01-03</th>\n",
       "      <td>29.95</td>\n",
       "      <td>13.000000</td>\n",
       "      <td>4.133333</td>\n",
       "      <td>11.266667</td>\n",
       "    </tr>\n",
       "    <tr>\n",
       "      <th>2021-01-04</th>\n",
       "      <td>11.05</td>\n",
       "      <td>11.266667</td>\n",
       "      <td>3.800000</td>\n",
       "      <td>9.400000</td>\n",
       "    </tr>\n",
       "    <tr>\n",
       "      <th>2021-01-05</th>\n",
       "      <td>27.60</td>\n",
       "      <td>9.400000</td>\n",
       "      <td>7.000000</td>\n",
       "      <td>10.700000</td>\n",
       "    </tr>\n",
       "    <tr>\n",
       "      <th>...</th>\n",
       "      <td>...</td>\n",
       "      <td>...</td>\n",
       "      <td>...</td>\n",
       "      <td>...</td>\n",
       "    </tr>\n",
       "    <tr>\n",
       "      <th>2022-08-14</th>\n",
       "      <td>0.00</td>\n",
       "      <td>31.450000</td>\n",
       "      <td>17.800000</td>\n",
       "      <td>30.633333</td>\n",
       "    </tr>\n",
       "    <tr>\n",
       "      <th>2022-08-15</th>\n",
       "      <td>0.00</td>\n",
       "      <td>30.633333</td>\n",
       "      <td>20.366667</td>\n",
       "      <td>31.266667</td>\n",
       "    </tr>\n",
       "    <tr>\n",
       "      <th>2022-08-16</th>\n",
       "      <td>0.50</td>\n",
       "      <td>31.266667</td>\n",
       "      <td>21.666667</td>\n",
       "      <td>33.500000</td>\n",
       "    </tr>\n",
       "    <tr>\n",
       "      <th>2022-08-17</th>\n",
       "      <td>0.15</td>\n",
       "      <td>33.500000</td>\n",
       "      <td>23.400000</td>\n",
       "      <td>34.800000</td>\n",
       "    </tr>\n",
       "    <tr>\n",
       "      <th>2022-08-18</th>\n",
       "      <td>0.00</td>\n",
       "      <td>34.800000</td>\n",
       "      <td>24.300000</td>\n",
       "      <td>28.400000</td>\n",
       "    </tr>\n",
       "  </tbody>\n",
       "</table>\n",
       "<p>592 rows × 4 columns</p>\n",
       "</div>"
      ],
      "text/plain": [
       "            precip   temp_max   temp_min     target\n",
       "DATE                                               \n",
       "2021-01-01    6.40  11.750000   4.133333  13.000000\n",
       "2021-01-02   27.95  13.000000   4.133333  13.000000\n",
       "2021-01-03   29.95  13.000000   4.133333  11.266667\n",
       "2021-01-04   11.05  11.266667   3.800000   9.400000\n",
       "2021-01-05   27.60   9.400000   7.000000  10.700000\n",
       "...            ...        ...        ...        ...\n",
       "2022-08-14    0.00  31.450000  17.800000  30.633333\n",
       "2022-08-15    0.00  30.633333  20.366667  31.266667\n",
       "2022-08-16    0.50  31.266667  21.666667  33.500000\n",
       "2022-08-17    0.15  33.500000  23.400000  34.800000\n",
       "2022-08-18    0.00  34.800000  24.300000  28.400000\n",
       "\n",
       "[592 rows x 4 columns]"
      ]
     },
     "execution_count": 35,
     "metadata": {},
     "output_type": "execute_result"
    }
   ],
   "source": [
    "train = core_df.loc[:'2020-12-31']\n",
    "test = core_df.loc['2021-01-01':]\n",
    "test"
   ]
  },
  {
   "cell_type": "code",
   "execution_count": 36,
   "id": "7a03ac38",
   "metadata": {},
   "outputs": [
    {
     "data": {
      "text/html": [
       "<div>\n",
       "<style scoped>\n",
       "    .dataframe tbody tr th:only-of-type {\n",
       "        vertical-align: middle;\n",
       "    }\n",
       "\n",
       "    .dataframe tbody tr th {\n",
       "        vertical-align: top;\n",
       "    }\n",
       "\n",
       "    .dataframe thead th {\n",
       "        text-align: right;\n",
       "    }\n",
       "</style>\n",
       "<table border=\"1\" class=\"dataframe\">\n",
       "  <thead>\n",
       "    <tr style=\"text-align: right;\">\n",
       "      <th></th>\n",
       "      <th>precip</th>\n",
       "      <th>temp_max</th>\n",
       "      <th>temp_min</th>\n",
       "      <th>target</th>\n",
       "    </tr>\n",
       "    <tr>\n",
       "      <th>DATE</th>\n",
       "      <th></th>\n",
       "      <th></th>\n",
       "      <th></th>\n",
       "      <th></th>\n",
       "    </tr>\n",
       "  </thead>\n",
       "  <tbody>\n",
       "    <tr>\n",
       "      <th>1951-03-01</th>\n",
       "      <td>0.20</td>\n",
       "      <td>13.200000</td>\n",
       "      <td>3.000000</td>\n",
       "      <td>10.500000</td>\n",
       "    </tr>\n",
       "    <tr>\n",
       "      <th>1951-03-02</th>\n",
       "      <td>0.00</td>\n",
       "      <td>10.500000</td>\n",
       "      <td>2.000000</td>\n",
       "      <td>8.600000</td>\n",
       "    </tr>\n",
       "    <tr>\n",
       "      <th>1951-03-03</th>\n",
       "      <td>0.00</td>\n",
       "      <td>8.600000</td>\n",
       "      <td>-1.400000</td>\n",
       "      <td>13.600000</td>\n",
       "    </tr>\n",
       "    <tr>\n",
       "      <th>1951-03-04</th>\n",
       "      <td>0.00</td>\n",
       "      <td>13.600000</td>\n",
       "      <td>-2.000000</td>\n",
       "      <td>15.200000</td>\n",
       "    </tr>\n",
       "    <tr>\n",
       "      <th>1951-03-05</th>\n",
       "      <td>0.10</td>\n",
       "      <td>15.200000</td>\n",
       "      <td>2.700000</td>\n",
       "      <td>18.000000</td>\n",
       "    </tr>\n",
       "    <tr>\n",
       "      <th>...</th>\n",
       "      <td>...</td>\n",
       "      <td>...</td>\n",
       "      <td>...</td>\n",
       "      <td>...</td>\n",
       "    </tr>\n",
       "    <tr>\n",
       "      <th>2020-12-27</th>\n",
       "      <td>0.50</td>\n",
       "      <td>10.266667</td>\n",
       "      <td>3.000000</td>\n",
       "      <td>13.800000</td>\n",
       "    </tr>\n",
       "    <tr>\n",
       "      <th>2020-12-28</th>\n",
       "      <td>11.90</td>\n",
       "      <td>13.800000</td>\n",
       "      <td>3.433333</td>\n",
       "      <td>14.500000</td>\n",
       "    </tr>\n",
       "    <tr>\n",
       "      <th>2020-12-29</th>\n",
       "      <td>2.65</td>\n",
       "      <td>14.500000</td>\n",
       "      <td>3.433333</td>\n",
       "      <td>11.833333</td>\n",
       "    </tr>\n",
       "    <tr>\n",
       "      <th>2020-12-30</th>\n",
       "      <td>5.10</td>\n",
       "      <td>11.833333</td>\n",
       "      <td>5.800000</td>\n",
       "      <td>10.600000</td>\n",
       "    </tr>\n",
       "    <tr>\n",
       "      <th>2020-12-31</th>\n",
       "      <td>8.00</td>\n",
       "      <td>10.600000</td>\n",
       "      <td>5.800000</td>\n",
       "      <td>11.750000</td>\n",
       "    </tr>\n",
       "  </tbody>\n",
       "</table>\n",
       "<p>25509 rows × 4 columns</p>\n",
       "</div>"
      ],
      "text/plain": [
       "            precip   temp_max  temp_min     target\n",
       "DATE                                              \n",
       "1951-03-01    0.20  13.200000  3.000000  10.500000\n",
       "1951-03-02    0.00  10.500000  2.000000   8.600000\n",
       "1951-03-03    0.00   8.600000 -1.400000  13.600000\n",
       "1951-03-04    0.00  13.600000 -2.000000  15.200000\n",
       "1951-03-05    0.10  15.200000  2.700000  18.000000\n",
       "...            ...        ...       ...        ...\n",
       "2020-12-27    0.50  10.266667  3.000000  13.800000\n",
       "2020-12-28   11.90  13.800000  3.433333  14.500000\n",
       "2020-12-29    2.65  14.500000  3.433333  11.833333\n",
       "2020-12-30    5.10  11.833333  5.800000  10.600000\n",
       "2020-12-31    8.00  10.600000  5.800000  11.750000\n",
       "\n",
       "[25509 rows x 4 columns]"
      ]
     },
     "execution_count": 36,
     "metadata": {},
     "output_type": "execute_result"
    }
   ],
   "source": [
    "train"
   ]
  },
  {
   "cell_type": "code",
   "execution_count": 37,
   "id": "37d5fa98",
   "metadata": {},
   "outputs": [
    {
     "ename": "ValueError",
     "evalue": "Input contains NaN, infinity or a value too large for dtype('float64').",
     "output_type": "error",
     "traceback": [
      "\u001b[1;31m---------------------------------------------------------------------------\u001b[0m",
      "\u001b[1;31mValueError\u001b[0m                                Traceback (most recent call last)",
      "Input \u001b[1;32mIn [37]\u001b[0m, in \u001b[0;36m<cell line: 1>\u001b[1;34m()\u001b[0m\n\u001b[1;32m----> 1\u001b[0m \u001b[43mreg\u001b[49m\u001b[38;5;241;43m.\u001b[39;49m\u001b[43mfit\u001b[49m\u001b[43m(\u001b[49m\u001b[43mtrain\u001b[49m\u001b[43m[\u001b[49m\u001b[43mpredictors\u001b[49m\u001b[43m]\u001b[49m\u001b[43m,\u001b[49m\u001b[43m \u001b[49m\u001b[43mtrain\u001b[49m\u001b[43m[\u001b[49m\u001b[38;5;124;43m'\u001b[39;49m\u001b[38;5;124;43mtarget\u001b[39;49m\u001b[38;5;124;43m'\u001b[39;49m\u001b[43m]\u001b[49m\u001b[43m)\u001b[49m\n",
      "File \u001b[1;32mC:\\ProgramData\\Anaconda3\\lib\\site-packages\\sklearn\\linear_model\\_ridge.py:1003\u001b[0m, in \u001b[0;36mRidge.fit\u001b[1;34m(self, X, y, sample_weight)\u001b[0m\n\u001b[0;32m    983\u001b[0m \u001b[38;5;124;03m\"\"\"Fit Ridge regression model.\u001b[39;00m\n\u001b[0;32m    984\u001b[0m \n\u001b[0;32m    985\u001b[0m \u001b[38;5;124;03mParameters\u001b[39;00m\n\u001b[1;32m   (...)\u001b[0m\n\u001b[0;32m   1000\u001b[0m \u001b[38;5;124;03m    Fitted estimator.\u001b[39;00m\n\u001b[0;32m   1001\u001b[0m \u001b[38;5;124;03m\"\"\"\u001b[39;00m\n\u001b[0;32m   1002\u001b[0m _accept_sparse \u001b[38;5;241m=\u001b[39m _get_valid_accept_sparse(sparse\u001b[38;5;241m.\u001b[39missparse(X), \u001b[38;5;28mself\u001b[39m\u001b[38;5;241m.\u001b[39msolver)\n\u001b[1;32m-> 1003\u001b[0m X, y \u001b[38;5;241m=\u001b[39m \u001b[38;5;28;43mself\u001b[39;49m\u001b[38;5;241;43m.\u001b[39;49m\u001b[43m_validate_data\u001b[49m\u001b[43m(\u001b[49m\n\u001b[0;32m   1004\u001b[0m \u001b[43m    \u001b[49m\u001b[43mX\u001b[49m\u001b[43m,\u001b[49m\n\u001b[0;32m   1005\u001b[0m \u001b[43m    \u001b[49m\u001b[43my\u001b[49m\u001b[43m,\u001b[49m\n\u001b[0;32m   1006\u001b[0m \u001b[43m    \u001b[49m\u001b[43maccept_sparse\u001b[49m\u001b[38;5;241;43m=\u001b[39;49m\u001b[43m_accept_sparse\u001b[49m\u001b[43m,\u001b[49m\n\u001b[0;32m   1007\u001b[0m \u001b[43m    \u001b[49m\u001b[43mdtype\u001b[49m\u001b[38;5;241;43m=\u001b[39;49m\u001b[43m[\u001b[49m\u001b[43mnp\u001b[49m\u001b[38;5;241;43m.\u001b[39;49m\u001b[43mfloat64\u001b[49m\u001b[43m,\u001b[49m\u001b[43m \u001b[49m\u001b[43mnp\u001b[49m\u001b[38;5;241;43m.\u001b[39;49m\u001b[43mfloat32\u001b[49m\u001b[43m]\u001b[49m\u001b[43m,\u001b[49m\n\u001b[0;32m   1008\u001b[0m \u001b[43m    \u001b[49m\u001b[43mmulti_output\u001b[49m\u001b[38;5;241;43m=\u001b[39;49m\u001b[38;5;28;43;01mTrue\u001b[39;49;00m\u001b[43m,\u001b[49m\n\u001b[0;32m   1009\u001b[0m \u001b[43m    \u001b[49m\u001b[43my_numeric\u001b[49m\u001b[38;5;241;43m=\u001b[39;49m\u001b[38;5;28;43;01mTrue\u001b[39;49;00m\u001b[43m,\u001b[49m\n\u001b[0;32m   1010\u001b[0m \u001b[43m\u001b[49m\u001b[43m)\u001b[49m\n\u001b[0;32m   1011\u001b[0m \u001b[38;5;28;01mreturn\u001b[39;00m \u001b[38;5;28msuper\u001b[39m()\u001b[38;5;241m.\u001b[39mfit(X, y, sample_weight\u001b[38;5;241m=\u001b[39msample_weight)\n",
      "File \u001b[1;32mC:\\ProgramData\\Anaconda3\\lib\\site-packages\\sklearn\\base.py:581\u001b[0m, in \u001b[0;36mBaseEstimator._validate_data\u001b[1;34m(self, X, y, reset, validate_separately, **check_params)\u001b[0m\n\u001b[0;32m    579\u001b[0m         y \u001b[38;5;241m=\u001b[39m check_array(y, \u001b[38;5;241m*\u001b[39m\u001b[38;5;241m*\u001b[39mcheck_y_params)\n\u001b[0;32m    580\u001b[0m     \u001b[38;5;28;01melse\u001b[39;00m:\n\u001b[1;32m--> 581\u001b[0m         X, y \u001b[38;5;241m=\u001b[39m check_X_y(X, y, \u001b[38;5;241m*\u001b[39m\u001b[38;5;241m*\u001b[39mcheck_params)\n\u001b[0;32m    582\u001b[0m     out \u001b[38;5;241m=\u001b[39m X, y\n\u001b[0;32m    584\u001b[0m \u001b[38;5;28;01mif\u001b[39;00m \u001b[38;5;129;01mnot\u001b[39;00m no_val_X \u001b[38;5;129;01mand\u001b[39;00m check_params\u001b[38;5;241m.\u001b[39mget(\u001b[38;5;124m\"\u001b[39m\u001b[38;5;124mensure_2d\u001b[39m\u001b[38;5;124m\"\u001b[39m, \u001b[38;5;28;01mTrue\u001b[39;00m):\n",
      "File \u001b[1;32mC:\\ProgramData\\Anaconda3\\lib\\site-packages\\sklearn\\utils\\validation.py:964\u001b[0m, in \u001b[0;36mcheck_X_y\u001b[1;34m(X, y, accept_sparse, accept_large_sparse, dtype, order, copy, force_all_finite, ensure_2d, allow_nd, multi_output, ensure_min_samples, ensure_min_features, y_numeric, estimator)\u001b[0m\n\u001b[0;32m    961\u001b[0m \u001b[38;5;28;01mif\u001b[39;00m y \u001b[38;5;129;01mis\u001b[39;00m \u001b[38;5;28;01mNone\u001b[39;00m:\n\u001b[0;32m    962\u001b[0m     \u001b[38;5;28;01mraise\u001b[39;00m \u001b[38;5;167;01mValueError\u001b[39;00m(\u001b[38;5;124m\"\u001b[39m\u001b[38;5;124my cannot be None\u001b[39m\u001b[38;5;124m\"\u001b[39m)\n\u001b[1;32m--> 964\u001b[0m X \u001b[38;5;241m=\u001b[39m \u001b[43mcheck_array\u001b[49m\u001b[43m(\u001b[49m\n\u001b[0;32m    965\u001b[0m \u001b[43m    \u001b[49m\u001b[43mX\u001b[49m\u001b[43m,\u001b[49m\n\u001b[0;32m    966\u001b[0m \u001b[43m    \u001b[49m\u001b[43maccept_sparse\u001b[49m\u001b[38;5;241;43m=\u001b[39;49m\u001b[43maccept_sparse\u001b[49m\u001b[43m,\u001b[49m\n\u001b[0;32m    967\u001b[0m \u001b[43m    \u001b[49m\u001b[43maccept_large_sparse\u001b[49m\u001b[38;5;241;43m=\u001b[39;49m\u001b[43maccept_large_sparse\u001b[49m\u001b[43m,\u001b[49m\n\u001b[0;32m    968\u001b[0m \u001b[43m    \u001b[49m\u001b[43mdtype\u001b[49m\u001b[38;5;241;43m=\u001b[39;49m\u001b[43mdtype\u001b[49m\u001b[43m,\u001b[49m\n\u001b[0;32m    969\u001b[0m \u001b[43m    \u001b[49m\u001b[43morder\u001b[49m\u001b[38;5;241;43m=\u001b[39;49m\u001b[43morder\u001b[49m\u001b[43m,\u001b[49m\n\u001b[0;32m    970\u001b[0m \u001b[43m    \u001b[49m\u001b[43mcopy\u001b[49m\u001b[38;5;241;43m=\u001b[39;49m\u001b[43mcopy\u001b[49m\u001b[43m,\u001b[49m\n\u001b[0;32m    971\u001b[0m \u001b[43m    \u001b[49m\u001b[43mforce_all_finite\u001b[49m\u001b[38;5;241;43m=\u001b[39;49m\u001b[43mforce_all_finite\u001b[49m\u001b[43m,\u001b[49m\n\u001b[0;32m    972\u001b[0m \u001b[43m    \u001b[49m\u001b[43mensure_2d\u001b[49m\u001b[38;5;241;43m=\u001b[39;49m\u001b[43mensure_2d\u001b[49m\u001b[43m,\u001b[49m\n\u001b[0;32m    973\u001b[0m \u001b[43m    \u001b[49m\u001b[43mallow_nd\u001b[49m\u001b[38;5;241;43m=\u001b[39;49m\u001b[43mallow_nd\u001b[49m\u001b[43m,\u001b[49m\n\u001b[0;32m    974\u001b[0m \u001b[43m    \u001b[49m\u001b[43mensure_min_samples\u001b[49m\u001b[38;5;241;43m=\u001b[39;49m\u001b[43mensure_min_samples\u001b[49m\u001b[43m,\u001b[49m\n\u001b[0;32m    975\u001b[0m \u001b[43m    \u001b[49m\u001b[43mensure_min_features\u001b[49m\u001b[38;5;241;43m=\u001b[39;49m\u001b[43mensure_min_features\u001b[49m\u001b[43m,\u001b[49m\n\u001b[0;32m    976\u001b[0m \u001b[43m    \u001b[49m\u001b[43mestimator\u001b[49m\u001b[38;5;241;43m=\u001b[39;49m\u001b[43mestimator\u001b[49m\u001b[43m,\u001b[49m\n\u001b[0;32m    977\u001b[0m \u001b[43m\u001b[49m\u001b[43m)\u001b[49m\n\u001b[0;32m    979\u001b[0m y \u001b[38;5;241m=\u001b[39m _check_y(y, multi_output\u001b[38;5;241m=\u001b[39mmulti_output, y_numeric\u001b[38;5;241m=\u001b[39my_numeric)\n\u001b[0;32m    981\u001b[0m check_consistent_length(X, y)\n",
      "File \u001b[1;32mC:\\ProgramData\\Anaconda3\\lib\\site-packages\\sklearn\\utils\\validation.py:800\u001b[0m, in \u001b[0;36mcheck_array\u001b[1;34m(array, accept_sparse, accept_large_sparse, dtype, order, copy, force_all_finite, ensure_2d, allow_nd, ensure_min_samples, ensure_min_features, estimator)\u001b[0m\n\u001b[0;32m    794\u001b[0m         \u001b[38;5;28;01mraise\u001b[39;00m \u001b[38;5;167;01mValueError\u001b[39;00m(\n\u001b[0;32m    795\u001b[0m             \u001b[38;5;124m\"\u001b[39m\u001b[38;5;124mFound array with dim \u001b[39m\u001b[38;5;132;01m%d\u001b[39;00m\u001b[38;5;124m. \u001b[39m\u001b[38;5;132;01m%s\u001b[39;00m\u001b[38;5;124m expected <= 2.\u001b[39m\u001b[38;5;124m\"\u001b[39m\n\u001b[0;32m    796\u001b[0m             \u001b[38;5;241m%\u001b[39m (array\u001b[38;5;241m.\u001b[39mndim, estimator_name)\n\u001b[0;32m    797\u001b[0m         )\n\u001b[0;32m    799\u001b[0m     \u001b[38;5;28;01mif\u001b[39;00m force_all_finite:\n\u001b[1;32m--> 800\u001b[0m         \u001b[43m_assert_all_finite\u001b[49m\u001b[43m(\u001b[49m\u001b[43marray\u001b[49m\u001b[43m,\u001b[49m\u001b[43m \u001b[49m\u001b[43mallow_nan\u001b[49m\u001b[38;5;241;43m=\u001b[39;49m\u001b[43mforce_all_finite\u001b[49m\u001b[43m \u001b[49m\u001b[38;5;241;43m==\u001b[39;49m\u001b[43m \u001b[49m\u001b[38;5;124;43m\"\u001b[39;49m\u001b[38;5;124;43mallow-nan\u001b[39;49m\u001b[38;5;124;43m\"\u001b[39;49m\u001b[43m)\u001b[49m\n\u001b[0;32m    802\u001b[0m \u001b[38;5;28;01mif\u001b[39;00m ensure_min_samples \u001b[38;5;241m>\u001b[39m \u001b[38;5;241m0\u001b[39m:\n\u001b[0;32m    803\u001b[0m     n_samples \u001b[38;5;241m=\u001b[39m _num_samples(array)\n",
      "File \u001b[1;32mC:\\ProgramData\\Anaconda3\\lib\\site-packages\\sklearn\\utils\\validation.py:114\u001b[0m, in \u001b[0;36m_assert_all_finite\u001b[1;34m(X, allow_nan, msg_dtype)\u001b[0m\n\u001b[0;32m    107\u001b[0m     \u001b[38;5;28;01mif\u001b[39;00m (\n\u001b[0;32m    108\u001b[0m         allow_nan\n\u001b[0;32m    109\u001b[0m         \u001b[38;5;129;01mand\u001b[39;00m np\u001b[38;5;241m.\u001b[39misinf(X)\u001b[38;5;241m.\u001b[39many()\n\u001b[0;32m    110\u001b[0m         \u001b[38;5;129;01mor\u001b[39;00m \u001b[38;5;129;01mnot\u001b[39;00m allow_nan\n\u001b[0;32m    111\u001b[0m         \u001b[38;5;129;01mand\u001b[39;00m \u001b[38;5;129;01mnot\u001b[39;00m np\u001b[38;5;241m.\u001b[39misfinite(X)\u001b[38;5;241m.\u001b[39mall()\n\u001b[0;32m    112\u001b[0m     ):\n\u001b[0;32m    113\u001b[0m         type_err \u001b[38;5;241m=\u001b[39m \u001b[38;5;124m\"\u001b[39m\u001b[38;5;124minfinity\u001b[39m\u001b[38;5;124m\"\u001b[39m \u001b[38;5;28;01mif\u001b[39;00m allow_nan \u001b[38;5;28;01melse\u001b[39;00m \u001b[38;5;124m\"\u001b[39m\u001b[38;5;124mNaN, infinity\u001b[39m\u001b[38;5;124m\"\u001b[39m\n\u001b[1;32m--> 114\u001b[0m         \u001b[38;5;28;01mraise\u001b[39;00m \u001b[38;5;167;01mValueError\u001b[39;00m(\n\u001b[0;32m    115\u001b[0m             msg_err\u001b[38;5;241m.\u001b[39mformat(\n\u001b[0;32m    116\u001b[0m                 type_err, msg_dtype \u001b[38;5;28;01mif\u001b[39;00m msg_dtype \u001b[38;5;129;01mis\u001b[39;00m \u001b[38;5;129;01mnot\u001b[39;00m \u001b[38;5;28;01mNone\u001b[39;00m \u001b[38;5;28;01melse\u001b[39;00m X\u001b[38;5;241m.\u001b[39mdtype\n\u001b[0;32m    117\u001b[0m             )\n\u001b[0;32m    118\u001b[0m         )\n\u001b[0;32m    119\u001b[0m \u001b[38;5;66;03m# for object dtype data, we only check for NaNs (GH-13254)\u001b[39;00m\n\u001b[0;32m    120\u001b[0m \u001b[38;5;28;01melif\u001b[39;00m X\u001b[38;5;241m.\u001b[39mdtype \u001b[38;5;241m==\u001b[39m np\u001b[38;5;241m.\u001b[39mdtype(\u001b[38;5;124m\"\u001b[39m\u001b[38;5;124mobject\u001b[39m\u001b[38;5;124m\"\u001b[39m) \u001b[38;5;129;01mand\u001b[39;00m \u001b[38;5;129;01mnot\u001b[39;00m allow_nan:\n",
      "\u001b[1;31mValueError\u001b[0m: Input contains NaN, infinity or a value too large for dtype('float64')."
     ]
    }
   ],
   "source": [
    "reg.fit(train[predictors], train['target'])"
   ]
  },
  {
   "cell_type": "code",
   "execution_count": null,
   "id": "f549941b",
   "metadata": {},
   "outputs": [],
   "source": [
    "predictions = reg.predict(test[predictors])"
   ]
  },
  {
   "cell_type": "code",
   "execution_count": null,
   "id": "ece77b02",
   "metadata": {},
   "outputs": [],
   "source": [
    "from sklearn.metrics import mean_absolute_error"
   ]
  },
  {
   "cell_type": "code",
   "execution_count": null,
   "id": "f1200869",
   "metadata": {},
   "outputs": [],
   "source": [
    "mean_absolute_error(test['target'], predictions)"
   ]
  },
  {
   "cell_type": "code",
   "execution_count": null,
   "id": "a14980ff",
   "metadata": {},
   "outputs": [],
   "source": [
    "combined = pd.concat([test['target'], pd.Series(predictions, index=test.index)], axis=1)\n",
    "combined.columns = ['actual', 'prediction']"
   ]
  },
  {
   "cell_type": "code",
   "execution_count": null,
   "id": "db22bf60",
   "metadata": {},
   "outputs": [],
   "source": [
    "combined.plot()"
   ]
  },
  {
   "cell_type": "code",
   "execution_count": null,
   "id": "6d71b835",
   "metadata": {
    "slideshow": {
     "slide_type": "-"
    }
   },
   "outputs": [],
   "source": [
    "reg.coef_"
   ]
  },
  {
   "cell_type": "code",
   "execution_count": null,
   "id": "142dc60e",
   "metadata": {},
   "outputs": [],
   "source": [
    "def create_predictions(predictors, core_df, reg):\n",
    "    train = core_df.loc[:'2020-12-31']\n",
    "    test = core_df.loc['2021-01-01':]\n",
    "    reg.fit(train[predictors], train['target'])\n",
    "    predictions = reg.predict(test[predictors])\n",
    "    error = mean_absolute_error(test['target'], predictions)\n",
    "    combined = pd.concat([test['target'], pd.Series(predictions, index=test.index)], axis=1)\n",
    "    combined.columns = ['actual', 'predictions']\n",
    "    return error, combined"
   ]
  },
  {
   "cell_type": "code",
   "execution_count": null,
   "id": "f650e7b2",
   "metadata": {},
   "outputs": [],
   "source": [
    "core_df['month_max'] = core_df['temp_max'].rolling(30).mean()"
   ]
  },
  {
   "cell_type": "code",
   "execution_count": null,
   "id": "6bf9ac00",
   "metadata": {},
   "outputs": [],
   "source": [
    "core_df.tail()"
   ]
  },
  {
   "cell_type": "code",
   "execution_count": null,
   "id": "5cb2cad1",
   "metadata": {},
   "outputs": [],
   "source": [
    "core_df['month_day_max'] = core_df['month_max'] - core_df['temp_max']"
   ]
  },
  {
   "cell_type": "code",
   "execution_count": null,
   "id": "11cb6f96",
   "metadata": {},
   "outputs": [],
   "source": [
    "core_df['max_min'] = core_df['temp_max'] - core_df['temp_min']"
   ]
  },
  {
   "cell_type": "code",
   "execution_count": null,
   "id": "46a90ecf",
   "metadata": {},
   "outputs": [],
   "source": [
    "core_df"
   ]
  },
  {
   "cell_type": "code",
   "execution_count": null,
   "id": "07ddfb90",
   "metadata": {},
   "outputs": [],
   "source": [
    "core_df = core_df.iloc[30:,:].copy()"
   ]
  },
  {
   "cell_type": "code",
   "execution_count": null,
   "id": "6065c992",
   "metadata": {},
   "outputs": [],
   "source": [
    "max(core_df['month_day_max'])"
   ]
  },
  {
   "cell_type": "code",
   "execution_count": null,
   "id": "d5f7e1bd",
   "metadata": {},
   "outputs": [],
   "source": [
    "predictors = ['precip', 'temp_max', 'temp_min', 'month_max', 'month_day_max', 'max_min']"
   ]
  },
  {
   "cell_type": "code",
   "execution_count": null,
   "id": "3ea6282c",
   "metadata": {
    "scrolled": true
   },
   "outputs": [],
   "source": [
    "error, combined = create_predictions(predictors, core_df, reg)"
   ]
  },
  {
   "cell_type": "code",
   "execution_count": null,
   "id": "135a7bb1",
   "metadata": {},
   "outputs": [],
   "source": [
    "error"
   ]
  },
  {
   "cell_type": "code",
   "execution_count": null,
   "id": "58ef2ec9",
   "metadata": {},
   "outputs": [],
   "source": [
    "combined.plot()"
   ]
  },
  {
   "cell_type": "code",
   "execution_count": null,
   "id": "9e0dee71",
   "metadata": {},
   "outputs": [],
   "source": [
    "core_df['monthly_avg'] = core_df['temp_max'].groupby(core_df.index.month).apply(lambda x: x.expanding(1).mean())"
   ]
  },
  {
   "cell_type": "code",
   "execution_count": null,
   "id": "c1355ef9",
   "metadata": {},
   "outputs": [],
   "source": [
    "core_df['day_of_year_avg'] = core_df['temp_max'].groupby(core_df.index.day_of_year).apply(lambda x: x.expanding(1).mean())"
   ]
  },
  {
   "cell_type": "code",
   "execution_count": null,
   "id": "03e66013",
   "metadata": {},
   "outputs": [],
   "source": [
    "core_df"
   ]
  },
  {
   "cell_type": "code",
   "execution_count": null,
   "id": "fe36c0fc",
   "metadata": {},
   "outputs": [],
   "source": [
    "predictors"
   ]
  },
  {
   "cell_type": "code",
   "execution_count": null,
   "id": "b21797f3",
   "metadata": {},
   "outputs": [],
   "source": [
    "predictors = predictors + ['monthly_avg', 'day_of_year_avg']"
   ]
  },
  {
   "cell_type": "code",
   "execution_count": null,
   "id": "4bf9bc91",
   "metadata": {},
   "outputs": [],
   "source": [
    "predictors"
   ]
  },
  {
   "cell_type": "code",
   "execution_count": null,
   "id": "40bec591",
   "metadata": {},
   "outputs": [],
   "source": [
    "error, combined = create_predictions(predictors, core_df, reg)"
   ]
  },
  {
   "cell_type": "code",
   "execution_count": null,
   "id": "8b578659",
   "metadata": {},
   "outputs": [],
   "source": [
    "error"
   ]
  },
  {
   "cell_type": "code",
   "execution_count": null,
   "id": "fceed76b",
   "metadata": {},
   "outputs": [],
   "source": [
    "reg.coef_"
   ]
  },
  {
   "cell_type": "code",
   "execution_count": null,
   "id": "4875eced",
   "metadata": {},
   "outputs": [],
   "source": [
    "core_df.corr()['target']"
   ]
  },
  {
   "cell_type": "code",
   "execution_count": null,
   "id": "0916943e",
   "metadata": {},
   "outputs": [],
   "source": [
    "combined['diff'] = (combined['actual'] - combined['predictions'].abs())"
   ]
  },
  {
   "cell_type": "code",
   "execution_count": null,
   "id": "48dbea66",
   "metadata": {},
   "outputs": [],
   "source": [
    "combined.sort_values('diff', ascending=False).head()"
   ]
  },
  {
   "cell_type": "code",
   "execution_count": null,
   "id": "2010e9ad",
   "metadata": {},
   "outputs": [],
   "source": [
    "combined.plot()"
   ]
  },
  {
   "cell_type": "code",
   "execution_count": null,
   "id": "837b47c7",
   "metadata": {},
   "outputs": [],
   "source": []
  }
 ],
 "metadata": {
  "kernelspec": {
   "display_name": "Python 3 (ipykernel)",
   "language": "python",
   "name": "python3"
  },
  "language_info": {
   "codemirror_mode": {
    "name": "ipython",
    "version": 3
   },
   "file_extension": ".py",
   "mimetype": "text/x-python",
   "name": "python",
   "nbconvert_exporter": "python",
   "pygments_lexer": "ipython3",
   "version": "3.9.12"
  }
 },
 "nbformat": 4,
 "nbformat_minor": 5
}
